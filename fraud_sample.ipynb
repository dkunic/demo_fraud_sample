{
  "metadata": {
    "kernelspec": {
      "name": "python3",
      "display_name": "Python 3",
      "language": "python"
    },
    "creator": "dataiku-admin",
    "createdOn": 1667892364003,
    "tags": [],
    "customFields": {},
    "hide_input": false,
    "language_info": {
      "name": "python",
      "version": "3.6.8",
      "mimetype": "text/x-python",
      "codemirror_mode": {
        "name": "ipython",
        "version": 3
      },
      "pygments_lexer": "ipython3",
      "nbconvert_exporter": "python",
      "file_extension": ".py"
    },
    "modifiedBy": "dataiku-admin"
  },
  "nbformat": 4,
  "nbformat_minor": 1,
  "cells": [
    {
      "execution_count": 0,
      "cell_type": "code",
      "metadata": {},
      "source": [
        "# -------------------------------------------------------------------------------- NOTEBOOK-CELL: CODE\nimport dataiku\nimport pandas\n\n# -------------------------------------------------------------------------------- NOTEBOOK-CELL: CODE\ndrift_dataset \u003d dataiku.get_custom_variables()[\"DRIFT_DATASET\"]\n\n# -------------------------------------------------------------------------------- NOTEBOOK-CELL: CODE\nmy_dataset \u003d dataiku.Dataset(\"Transaction_prepared_model_drift\")\ndf \u003d my_dataset.get_dataframe()\n\n# -------------------------------------------------------------------------------- NOTEBOOK-CELL: CODE\n#df.authorized_flag.describe()\n\n# -------------------------------------------------------------------------------- NOTEBOOK-CELL: CODE\n#df.authorized_flag_new.describe()\n\n# -------------------------------------------------------------------------------- NOTEBOOK-CELL: CODE\nif drift_dataset \u003d\u003d \u0027True\u0027: df.authorized_flag\u003ddf.authorized_flag_mod\n\n# -------------------------------------------------------------------------------- NOTEBOOK-CELL: CODE\noutput_ds \u003d dataiku.Dataset(\"Transaction_prepared_model_drift_py\")\noutput_ds.write_with_schema(df)\n"
      ],
      "outputs": []
    }
  ]
}