{
  "metadata": {
    "kernelspec": {
      "name": "python3",
      "display_name": "Python 3",
      "language": "python"
    },
    "associatedRecipe": "compute_transactions_prepared_py",
    "dkuGit": {
      "lastInteraction": 0
    },
    "creationTag": {
      "versionNumber": 0,
      "lastModifiedBy": {
        "login": "alejandro"
      },
      "lastModifiedOn": 1633086477485
    },
    "creator": "alejandro",
    "createdOn": 1633086477485,
    "tags": [
      "recipe-editor"
    ],
    "customFields": {},
    "hide_input": false,
    "language_info": {
      "name": "python",
      "version": "3.6.8",
      "mimetype": "text/x-python",
      "codemirror_mode": {
        "name": "ipython",
        "version": 3
      },
      "pygments_lexer": "ipython3",
      "nbconvert_exporter": "python",
      "file_extension": ".py"
    },
    "modifiedBy": "alejandro"
  },
  "nbformat": 4,
  "nbformat_minor": 1,
  "cells": [
    {
      "execution_count": 1,
      "cell_type": "code",
      "metadata": {},
      "source": [
        "import dataiku\nimport pandas"
      ],
      "outputs": []
    },
    {
      "execution_count": 2,
      "cell_type": "code",
      "metadata": {},
      "source": [
        "drift_dataset \u003d dataiku.get_custom_variables()[\"DRIFT_DATASET\"]"
      ],
      "outputs": []
    },
    {
      "execution_count": 3,
      "cell_type": "code",
      "metadata": {},
      "source": [
        "my_dataset \u003d dataiku.Dataset(\"Transaction_prepared_model_drift\")\ndf \u003d my_dataset.get_dataframe()"
      ],
      "outputs": [
        {
          "output_type": "stream",
          "text": "/data/dss/dataiku-dss-10.0.0-alpha4/python36.packages/IPython/core/interactiveshell.py:2822: DtypeWarning: Columns (2,4) have mixed types. Specify dtype option on import or set low_memory\u003dFalse.\n  if self.run_code(code, result):\n",
          "name": "stderr"
        }
      ]
    },
    {
      "execution_count": 10,
      "cell_type": "code",
      "metadata": {},
      "source": [
        "#df.authorized_flag.describe()"
      ],
      "outputs": [
        {
          "output_type": "execute_result",
          "execution_count": 10,
          "data": {
            "text/plain": "count    254027.000000\nmean          0.905947\nstd           0.291903\nmin           0.000000\n25%           1.000000\n50%           1.000000\n75%           1.000000\nmax           1.000000\nName: authorized_flag, dtype: float64"
          },
          "metadata": {}
        }
      ]
    },
    {
      "execution_count": 9,
      "cell_type": "code",
      "metadata": {},
      "source": [
        "#df.authorized_flag_new.describe()"
      ],
      "outputs": [
        {
          "output_type": "execute_result",
          "execution_count": 9,
          "data": {
            "text/plain": "count    254027.000000\nmean          0.860318\nstd           0.346657\nmin           0.000000\n25%           1.000000\n50%           1.000000\n75%           1.000000\nmax           1.000000\nName: authorized_flag_new, dtype: float64"
          },
          "metadata": {}
        }
      ]
    },
    {
      "execution_count": 8,
      "cell_type": "code",
      "metadata": {},
      "source": [
        "if drift_dataset \u003d\u003d \u0027True\u0027:\n\n    df.authorized_flag_new\u003ddf.authorized_flag"
      ],
      "outputs": []
    },
    {
      "execution_count": 0,
      "cell_type": "code",
      "metadata": {},
      "source": [
        "output_ds \u003d dataiku.Dataset(\"transactions_prepared_py\")\noutput_ds.write_with_schema(df)"
      ],
      "outputs": []
    }
  ]
}